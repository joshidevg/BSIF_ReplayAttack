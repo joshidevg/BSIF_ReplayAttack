{
 "cells": [
  {
   "cell_type": "code",
   "execution_count": 1,
   "metadata": {},
   "outputs": [],
   "source": [
    "import numpy as np\n",
    "import pandas as pd\n",
    "import matplotlib.pyplot as plt\n",
    "import os\n",
    "import csv\n",
    "import cv2\n",
    "import time\n",
    "import pickle\n",
    "from mat4py import loadmat"
   ]
  },
  {
   "cell_type": "code",
   "execution_count": 2,
   "metadata": {},
   "outputs": [],
   "source": [
    "# filters_txt/finetuned_bsif_eyetracker_data/ICAtextureFilters_5x5_5bit.txt"
   ]
  },
  {
   "cell_type": "code",
   "execution_count": 25,
   "metadata": {},
   "outputs": [],
   "source": [
    "def read_matrix_from_file(file_path):\n",
    "    # extract matrix size from file path\n",
    "    size_str = file_path.split('/')[-1].split('_')[1]\n",
    "    size = [int(x) for x in size_str.split('x')]\n",
    "    temp = file_path.split('/')[-1].split('_')[2]\n",
    "    size.append(int(temp.split('bit')[0]))\n",
    "    # print(int(temp.split('bit')[0]) + 2)\n",
    "\n",
    "    # print(size)\n",
    "\n",
    "    # create matrix of that size by reading file\n",
    "    with open(file_path, 'r') as f:\n",
    "        matrix = np.zeros(size)\n",
    "        for i, line in enumerate(f):\n",
    "            row = [float(x) for x in line.split(',')]\n",
    "            matrix[i//size[1], i%size[1], :] = row\n",
    "    return matrix"
   ]
  },
  {
   "cell_type": "code",
   "execution_count": 28,
   "metadata": {},
   "outputs": [],
   "source": [
    "m5x5_5 = read_matrix_from_file('filters_txt/finetuned_bsif_eyetracker_data/ICAtextureFilters_5x5_5bit.txt')\n",
    "# print(m5x5_5)"
   ]
  },
  {
   "cell_type": "code",
   "execution_count": null,
   "metadata": {},
   "outputs": [],
   "source": []
  }
 ],
 "metadata": {
  "kernelspec": {
   "display_name": "Python 3",
   "language": "python",
   "name": "python3"
  },
  "language_info": {
   "codemirror_mode": {
    "name": "ipython",
    "version": 3
   },
   "file_extension": ".py",
   "mimetype": "text/x-python",
   "name": "python",
   "nbconvert_exporter": "python",
   "pygments_lexer": "ipython3",
   "version": "3.12.0"
  }
 },
 "nbformat": 4,
 "nbformat_minor": 2
}
